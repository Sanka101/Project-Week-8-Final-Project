{
 "cells": [
  {
   "cell_type": "code",
   "execution_count": 1,
   "metadata": {},
   "outputs": [],
   "source": [
    "import warnings\n",
    "import itertools\n",
    "import numpy as np\n",
    "import matplotlib.pyplot as plt\n",
    "warnings.filterwarnings(\"ignore\")\n",
    "plt.style.use('fivethirtyeight')\n",
    "import pandas as pd\n",
    "import statsmodels.api as sm\n",
    "import matplotlib\n",
    "matplotlib.rcParams['axes.labelsize'] = 14\n",
    "matplotlib.rcParams['xtick.labelsize'] = 12\n",
    "matplotlib.rcParams['ytick.labelsize'] = 12\n",
    "matplotlib.rcParams['text.color'] = 'G'"
   ]
  },
  {
   "cell_type": "code",
   "execution_count": null,
   "metadata": {},
   "outputs": [],
   "source": [
    "df = pd.read_csv(\"Raw data/Original datasets/smart_meter.csv\",sep=\"\\s*[;]\\s*\", \n",
    "                decimal=',')"
   ]
  },
  {
   "cell_type": "code",
   "execution_count": 24,
   "metadata": {},
   "outputs": [],
   "source": [
    "df.rename(columns={'ï»¿Date':\"Datetime\"}, inplace=True)"
   ]
  },
  {
   "cell_type": "code",
   "execution_count": 37,
   "metadata": {},
   "outputs": [],
   "source": [
    "df[\"Datetime\"] = df[\"Datetime\"].str.replace(r\"[\\\"\\',]\", '')"
   ]
  },
  {
   "cell_type": "code",
   "execution_count": 38,
   "metadata": {},
   "outputs": [
    {
     "data": {
      "text/html": [
       "<div>\n",
       "<style scoped>\n",
       "    .dataframe tbody tr th:only-of-type {\n",
       "        vertical-align: middle;\n",
       "    }\n",
       "\n",
       "    .dataframe tbody tr th {\n",
       "        vertical-align: top;\n",
       "    }\n",
       "\n",
       "    .dataframe thead th {\n",
       "        text-align: right;\n",
       "    }\n",
       "</style>\n",
       "<table border=\"1\" class=\"dataframe\">\n",
       "  <thead>\n",
       "    <tr style=\"text-align: right;\">\n",
       "      <th></th>\n",
       "      <th>Datetime</th>\n",
       "      <th>MT_001</th>\n",
       "      <th>MT_002</th>\n",
       "      <th>MT_003</th>\n",
       "      <th>MT_004</th>\n",
       "      <th>MT_005</th>\n",
       "      <th>MT_006</th>\n",
       "      <th>MT_007</th>\n",
       "      <th>MT_008</th>\n",
       "      <th>MT_009</th>\n",
       "      <th>...</th>\n",
       "      <th>MT_361</th>\n",
       "      <th>MT_362</th>\n",
       "      <th>MT_363</th>\n",
       "      <th>MT_364</th>\n",
       "      <th>MT_365</th>\n",
       "      <th>MT_366</th>\n",
       "      <th>MT_367</th>\n",
       "      <th>MT_368</th>\n",
       "      <th>MT_369</th>\n",
       "      <th>MT_370</th>\n",
       "    </tr>\n",
       "  </thead>\n",
       "  <tbody>\n",
       "    <tr>\n",
       "      <td>140251</td>\n",
       "      <td>2014-12-31 23:00:00</td>\n",
       "      <td>2,53807106598985</td>\n",
       "      <td>22,0483641536273</td>\n",
       "      <td>1,73761946133797</td>\n",
       "      <td>150,406504065041</td>\n",
       "      <td>85,3658536585366</td>\n",
       "      <td>303,571428571429</td>\n",
       "      <td>11,3058224985868</td>\n",
       "      <td>282,828282828283</td>\n",
       "      <td>68,1818181818182</td>\n",
       "      <td>...</td>\n",
       "      <td>276,945039257673</td>\n",
       "      <td>28200.0</td>\n",
       "      <td>1616,03375527426</td>\n",
       "      <td>1363,63636363636</td>\n",
       "      <td>29,986962190352</td>\n",
       "      <td>5,85137507314219</td>\n",
       "      <td>697,102721685689</td>\n",
       "      <td>176,961602671119</td>\n",
       "      <td>651,026392961877</td>\n",
       "      <td>7621,62162162162\"</td>\n",
       "    </tr>\n",
       "    <tr>\n",
       "      <td>140252</td>\n",
       "      <td>2014-12-31 23:15:00</td>\n",
       "      <td>2,53807106598985</td>\n",
       "      <td>21,3371266002845</td>\n",
       "      <td>1,73761946133797</td>\n",
       "      <td>166,666666666667</td>\n",
       "      <td>81,7073170731707</td>\n",
       "      <td>324,404761904762</td>\n",
       "      <td>11,3058224985868</td>\n",
       "      <td>252,525252525253</td>\n",
       "      <td>64,6853146853147</td>\n",
       "      <td>...</td>\n",
       "      <td>279,800142755175</td>\n",
       "      <td>28300.0</td>\n",
       "      <td>1569,62025316456</td>\n",
       "      <td>1340,90909090909</td>\n",
       "      <td>29,986962190352</td>\n",
       "      <td>9,94733762434172</td>\n",
       "      <td>671,641791044776</td>\n",
       "      <td>168,614357262104</td>\n",
       "      <td>669,354838709677</td>\n",
       "      <td>6702,7027027027\"</td>\n",
       "    </tr>\n",
       "    <tr>\n",
       "      <td>140253</td>\n",
       "      <td>2014-12-31 23:30:00</td>\n",
       "      <td>2,53807106598985</td>\n",
       "      <td>20,6258890469417</td>\n",
       "      <td>1,73761946133797</td>\n",
       "      <td>162,60162601626</td>\n",
       "      <td>82,9268292682927</td>\n",
       "      <td>318,452380952381</td>\n",
       "      <td>10,1752402487281</td>\n",
       "      <td>242,424242424242</td>\n",
       "      <td>61,1888111888112</td>\n",
       "      <td>...</td>\n",
       "      <td>284,796573875803</td>\n",
       "      <td>27800.0</td>\n",
       "      <td>1556,96202531646</td>\n",
       "      <td>1318,18181818182</td>\n",
       "      <td>27,3794002607562</td>\n",
       "      <td>9,3622001170275</td>\n",
       "      <td>670,763827919227</td>\n",
       "      <td>153,589315525876</td>\n",
       "      <td>670,087976539589</td>\n",
       "      <td>6864,86486486487\"</td>\n",
       "    </tr>\n",
       "    <tr>\n",
       "      <td>140254</td>\n",
       "      <td>2014-12-31 23:45:00</td>\n",
       "      <td>1,26903553299492</td>\n",
       "      <td>21,3371266002845</td>\n",
       "      <td>1,73761946133797</td>\n",
       "      <td>166,666666666667</td>\n",
       "      <td>85,3658536585366</td>\n",
       "      <td>285,714285714286</td>\n",
       "      <td>10,1752402487281</td>\n",
       "      <td>225,589225589226</td>\n",
       "      <td>64,6853146853147</td>\n",
       "      <td>...</td>\n",
       "      <td>246,252676659529</td>\n",
       "      <td>28000.0</td>\n",
       "      <td>1443,03797468354</td>\n",
       "      <td>909,090909090909</td>\n",
       "      <td>26,0756192959583</td>\n",
       "      <td>4,09596255119953</td>\n",
       "      <td>664,618086040386</td>\n",
       "      <td>146,911519198664</td>\n",
       "      <td>646,627565982405</td>\n",
       "      <td>6540,54054054054\"</td>\n",
       "    </tr>\n",
       "    <tr>\n",
       "      <td>140255</td>\n",
       "      <td>2015-01-01 00:00:00</td>\n",
       "      <td>2,53807106598985</td>\n",
       "      <td>19,9146514935989</td>\n",
       "      <td>1,73761946133797</td>\n",
       "      <td>178,861788617886</td>\n",
       "      <td>84,1463414634146</td>\n",
       "      <td>279,761904761905</td>\n",
       "      <td>10,1752402487281</td>\n",
       "      <td>249,158249158249</td>\n",
       "      <td>62,9370629370629</td>\n",
       "      <td>...</td>\n",
       "      <td>188,436830835118</td>\n",
       "      <td>27800.0</td>\n",
       "      <td>1409,28270042194</td>\n",
       "      <td>954,545454545455</td>\n",
       "      <td>27,3794002607562</td>\n",
       "      <td>4,09596255119953</td>\n",
       "      <td>628,621597892889</td>\n",
       "      <td>131,886477462437</td>\n",
       "      <td>673,020527859238</td>\n",
       "      <td>7135,13513513513\"</td>\n",
       "    </tr>\n",
       "  </tbody>\n",
       "</table>\n",
       "<p>5 rows × 371 columns</p>\n",
       "</div>"
      ],
      "text/plain": [
       "                   Datetime            MT_001            MT_002  \\\n",
       "140251  2014-12-31 23:00:00  2,53807106598985  22,0483641536273   \n",
       "140252  2014-12-31 23:15:00  2,53807106598985  21,3371266002845   \n",
       "140253  2014-12-31 23:30:00  2,53807106598985  20,6258890469417   \n",
       "140254  2014-12-31 23:45:00  1,26903553299492  21,3371266002845   \n",
       "140255  2015-01-01 00:00:00  2,53807106598985  19,9146514935989   \n",
       "\n",
       "                  MT_003            MT_004            MT_005  \\\n",
       "140251  1,73761946133797  150,406504065041  85,3658536585366   \n",
       "140252  1,73761946133797  166,666666666667  81,7073170731707   \n",
       "140253  1,73761946133797   162,60162601626  82,9268292682927   \n",
       "140254  1,73761946133797  166,666666666667  85,3658536585366   \n",
       "140255  1,73761946133797  178,861788617886  84,1463414634146   \n",
       "\n",
       "                  MT_006            MT_007            MT_008  \\\n",
       "140251  303,571428571429  11,3058224985868  282,828282828283   \n",
       "140252  324,404761904762  11,3058224985868  252,525252525253   \n",
       "140253  318,452380952381  10,1752402487281  242,424242424242   \n",
       "140254  285,714285714286  10,1752402487281  225,589225589226   \n",
       "140255  279,761904761905  10,1752402487281  249,158249158249   \n",
       "\n",
       "                  MT_009  ...            MT_361   MT_362            MT_363  \\\n",
       "140251  68,1818181818182  ...  276,945039257673  28200.0  1616,03375527426   \n",
       "140252  64,6853146853147  ...  279,800142755175  28300.0  1569,62025316456   \n",
       "140253  61,1888111888112  ...  284,796573875803  27800.0  1556,96202531646   \n",
       "140254  64,6853146853147  ...  246,252676659529  28000.0  1443,03797468354   \n",
       "140255  62,9370629370629  ...  188,436830835118  27800.0  1409,28270042194   \n",
       "\n",
       "                  MT_364            MT_365            MT_366  \\\n",
       "140251  1363,63636363636   29,986962190352  5,85137507314219   \n",
       "140252  1340,90909090909   29,986962190352  9,94733762434172   \n",
       "140253  1318,18181818182  27,3794002607562   9,3622001170275   \n",
       "140254  909,090909090909  26,0756192959583  4,09596255119953   \n",
       "140255  954,545454545455  27,3794002607562  4,09596255119953   \n",
       "\n",
       "                  MT_367            MT_368            MT_369  \\\n",
       "140251  697,102721685689  176,961602671119  651,026392961877   \n",
       "140252  671,641791044776  168,614357262104  669,354838709677   \n",
       "140253  670,763827919227  153,589315525876  670,087976539589   \n",
       "140254  664,618086040386  146,911519198664  646,627565982405   \n",
       "140255  628,621597892889  131,886477462437  673,020527859238   \n",
       "\n",
       "                   MT_370  \n",
       "140251  7621,62162162162\"  \n",
       "140252   6702,7027027027\"  \n",
       "140253  6864,86486486487\"  \n",
       "140254  6540,54054054054\"  \n",
       "140255  7135,13513513513\"  \n",
       "\n",
       "[5 rows x 371 columns]"
      ]
     },
     "execution_count": 38,
     "metadata": {},
     "output_type": "execute_result"
    }
   ],
   "source": [
    "df.tail(5)"
   ]
  },
  {
   "cell_type": "code",
   "execution_count": 39,
   "metadata": {},
   "outputs": [],
   "source": [
    "df.Datetime = pd.to_datetime(df.Datetime)\n",
    "df.set_index('Datetime', inplace=True)"
   ]
  },
  {
   "cell_type": "code",
   "execution_count": 43,
   "metadata": {},
   "outputs": [],
   "source": [
    "# from 2012-01-01\n",
    "df = df['2012-01-01':]"
   ]
  },
  {
   "cell_type": "code",
   "execution_count": 52,
   "metadata": {},
   "outputs": [
    {
     "name": "stdout",
     "output_type": "stream",
     "text": [
      "<class 'pandas.core.frame.DataFrame'>\n",
      "DatetimeIndex: 105217 entries, 2012-01-01 00:00:00 to 2015-01-01 00:00:00\n",
      "Columns: 370 entries, MT_001 to MT_370\n",
      "dtypes: float64(1), object(369)\n",
      "memory usage: 297.8+ MB\n"
     ]
    }
   ],
   "source": [
    "df.info()"
   ]
  },
  {
   "cell_type": "code",
   "execution_count": 65,
   "metadata": {},
   "outputs": [
    {
     "ename": "ValueError",
     "evalue": "Unable to parse string \"3,80710659898477\" at position 1",
     "output_type": "error",
     "traceback": [
      "\u001b[1;31m---------------------------------------------------------------------------\u001b[0m",
      "\u001b[1;31mValueError\u001b[0m                                Traceback (most recent call last)",
      "\u001b[1;32mpandas\\_libs\\lib.pyx\u001b[0m in \u001b[0;36mpandas._libs.lib.maybe_convert_numeric\u001b[1;34m()\u001b[0m\n",
      "\u001b[1;31mValueError\u001b[0m: Unable to parse string \"3,80710659898477\"",
      "\nDuring handling of the above exception, another exception occurred:\n",
      "\u001b[1;31mValueError\u001b[0m                                Traceback (most recent call last)",
      "\u001b[1;32m<ipython-input-65-4684e63f9a35>\u001b[0m in \u001b[0;36m<module>\u001b[1;34m\u001b[0m\n\u001b[1;32m----> 1\u001b[1;33m \u001b[0mpd\u001b[0m\u001b[1;33m.\u001b[0m\u001b[0mto_numeric\u001b[0m\u001b[1;33m(\u001b[0m\u001b[0mdf\u001b[0m\u001b[1;33m[\u001b[0m\u001b[1;34m'MT_001'\u001b[0m\u001b[1;33m]\u001b[0m\u001b[1;33m)\u001b[0m\u001b[1;33m\u001b[0m\u001b[1;33m\u001b[0m\u001b[0m\n\u001b[0m",
      "\u001b[1;32m~\\Anaconda3\\lib\\site-packages\\pandas\\core\\tools\\numeric.py\u001b[0m in \u001b[0;36mto_numeric\u001b[1;34m(arg, errors, downcast)\u001b[0m\n\u001b[0;32m    149\u001b[0m             \u001b[0mcoerce_numeric\u001b[0m \u001b[1;33m=\u001b[0m \u001b[0merrors\u001b[0m \u001b[1;32mnot\u001b[0m \u001b[1;32min\u001b[0m \u001b[1;33m(\u001b[0m\u001b[1;34m\"ignore\"\u001b[0m\u001b[1;33m,\u001b[0m \u001b[1;34m\"raise\"\u001b[0m\u001b[1;33m)\u001b[0m\u001b[1;33m\u001b[0m\u001b[1;33m\u001b[0m\u001b[0m\n\u001b[0;32m    150\u001b[0m             values = lib.maybe_convert_numeric(\n\u001b[1;32m--> 151\u001b[1;33m                 \u001b[0mvalues\u001b[0m\u001b[1;33m,\u001b[0m \u001b[0mset\u001b[0m\u001b[1;33m(\u001b[0m\u001b[1;33m)\u001b[0m\u001b[1;33m,\u001b[0m \u001b[0mcoerce_numeric\u001b[0m\u001b[1;33m=\u001b[0m\u001b[0mcoerce_numeric\u001b[0m\u001b[1;33m\u001b[0m\u001b[1;33m\u001b[0m\u001b[0m\n\u001b[0m\u001b[0;32m    152\u001b[0m             )\n\u001b[0;32m    153\u001b[0m \u001b[1;33m\u001b[0m\u001b[0m\n",
      "\u001b[1;32mpandas\\_libs\\lib.pyx\u001b[0m in \u001b[0;36mpandas._libs.lib.maybe_convert_numeric\u001b[1;34m()\u001b[0m\n",
      "\u001b[1;31mValueError\u001b[0m: Unable to parse string \"3,80710659898477\" at position 1"
     ]
    }
   ],
   "source": [
    "pd.to_numeric(df['MT_001'])"
   ]
  },
  {
   "cell_type": "code",
   "execution_count": 44,
   "metadata": {},
   "outputs": [
    {
     "ename": "TypeError",
     "evalue": "no numeric data to plot",
     "output_type": "error",
     "traceback": [
      "\u001b[1;31m---------------------------------------------------------------------------\u001b[0m",
      "\u001b[1;31mTypeError\u001b[0m                                 Traceback (most recent call last)",
      "\u001b[1;32m<ipython-input-44-72a7da8f690e>\u001b[0m in \u001b[0;36m<module>\u001b[1;34m\u001b[0m\n\u001b[1;32m----> 1\u001b[1;33m \u001b[0mdf\u001b[0m\u001b[1;33m[\u001b[0m\u001b[1;34m'MT_001'\u001b[0m\u001b[1;33m]\u001b[0m\u001b[1;33m.\u001b[0m\u001b[0mplot\u001b[0m\u001b[1;33m(\u001b[0m\u001b[0mfigsize\u001b[0m\u001b[1;33m=\u001b[0m\u001b[1;33m(\u001b[0m\u001b[1;36m19\u001b[0m\u001b[1;33m,\u001b[0m\u001b[1;36m12\u001b[0m\u001b[1;33m)\u001b[0m\u001b[1;33m)\u001b[0m\u001b[1;33m\u001b[0m\u001b[1;33m\u001b[0m\u001b[0m\n\u001b[0m\u001b[0;32m      2\u001b[0m \u001b[0mplt\u001b[0m\u001b[1;33m.\u001b[0m\u001b[0mshow\u001b[0m\u001b[1;33m(\u001b[0m\u001b[1;33m)\u001b[0m\u001b[1;33m\u001b[0m\u001b[1;33m\u001b[0m\u001b[0m\n",
      "\u001b[1;32m~\\Anaconda3\\lib\\site-packages\\pandas\\plotting\\_core.py\u001b[0m in \u001b[0;36m__call__\u001b[1;34m(self, *args, **kwargs)\u001b[0m\n\u001b[0;32m    792\u001b[0m                     \u001b[0mdata\u001b[0m\u001b[1;33m.\u001b[0m\u001b[0mcolumns\u001b[0m \u001b[1;33m=\u001b[0m \u001b[0mlabel_name\u001b[0m\u001b[1;33m\u001b[0m\u001b[1;33m\u001b[0m\u001b[0m\n\u001b[0;32m    793\u001b[0m \u001b[1;33m\u001b[0m\u001b[0m\n\u001b[1;32m--> 794\u001b[1;33m         \u001b[1;32mreturn\u001b[0m \u001b[0mplot_backend\u001b[0m\u001b[1;33m.\u001b[0m\u001b[0mplot\u001b[0m\u001b[1;33m(\u001b[0m\u001b[0mdata\u001b[0m\u001b[1;33m,\u001b[0m \u001b[0mkind\u001b[0m\u001b[1;33m=\u001b[0m\u001b[0mkind\u001b[0m\u001b[1;33m,\u001b[0m \u001b[1;33m**\u001b[0m\u001b[0mkwargs\u001b[0m\u001b[1;33m)\u001b[0m\u001b[1;33m\u001b[0m\u001b[1;33m\u001b[0m\u001b[0m\n\u001b[0m\u001b[0;32m    795\u001b[0m \u001b[1;33m\u001b[0m\u001b[0m\n\u001b[0;32m    796\u001b[0m     \u001b[1;32mdef\u001b[0m \u001b[0mline\u001b[0m\u001b[1;33m(\u001b[0m\u001b[0mself\u001b[0m\u001b[1;33m,\u001b[0m \u001b[0mx\u001b[0m\u001b[1;33m=\u001b[0m\u001b[1;32mNone\u001b[0m\u001b[1;33m,\u001b[0m \u001b[0my\u001b[0m\u001b[1;33m=\u001b[0m\u001b[1;32mNone\u001b[0m\u001b[1;33m,\u001b[0m \u001b[1;33m**\u001b[0m\u001b[0mkwargs\u001b[0m\u001b[1;33m)\u001b[0m\u001b[1;33m:\u001b[0m\u001b[1;33m\u001b[0m\u001b[1;33m\u001b[0m\u001b[0m\n",
      "\u001b[1;32m~\\Anaconda3\\lib\\site-packages\\pandas\\plotting\\_matplotlib\\__init__.py\u001b[0m in \u001b[0;36mplot\u001b[1;34m(data, kind, **kwargs)\u001b[0m\n\u001b[0;32m     60\u001b[0m             \u001b[0mkwargs\u001b[0m\u001b[1;33m[\u001b[0m\u001b[1;34m\"ax\"\u001b[0m\u001b[1;33m]\u001b[0m \u001b[1;33m=\u001b[0m \u001b[0mgetattr\u001b[0m\u001b[1;33m(\u001b[0m\u001b[0max\u001b[0m\u001b[1;33m,\u001b[0m \u001b[1;34m\"left_ax\"\u001b[0m\u001b[1;33m,\u001b[0m \u001b[0max\u001b[0m\u001b[1;33m)\u001b[0m\u001b[1;33m\u001b[0m\u001b[1;33m\u001b[0m\u001b[0m\n\u001b[0;32m     61\u001b[0m     \u001b[0mplot_obj\u001b[0m \u001b[1;33m=\u001b[0m \u001b[0mPLOT_CLASSES\u001b[0m\u001b[1;33m[\u001b[0m\u001b[0mkind\u001b[0m\u001b[1;33m]\u001b[0m\u001b[1;33m(\u001b[0m\u001b[0mdata\u001b[0m\u001b[1;33m,\u001b[0m \u001b[1;33m**\u001b[0m\u001b[0mkwargs\u001b[0m\u001b[1;33m)\u001b[0m\u001b[1;33m\u001b[0m\u001b[1;33m\u001b[0m\u001b[0m\n\u001b[1;32m---> 62\u001b[1;33m     \u001b[0mplot_obj\u001b[0m\u001b[1;33m.\u001b[0m\u001b[0mgenerate\u001b[0m\u001b[1;33m(\u001b[0m\u001b[1;33m)\u001b[0m\u001b[1;33m\u001b[0m\u001b[1;33m\u001b[0m\u001b[0m\n\u001b[0m\u001b[0;32m     63\u001b[0m     \u001b[0mplot_obj\u001b[0m\u001b[1;33m.\u001b[0m\u001b[0mdraw\u001b[0m\u001b[1;33m(\u001b[0m\u001b[1;33m)\u001b[0m\u001b[1;33m\u001b[0m\u001b[1;33m\u001b[0m\u001b[0m\n\u001b[0;32m     64\u001b[0m     \u001b[1;32mreturn\u001b[0m \u001b[0mplot_obj\u001b[0m\u001b[1;33m.\u001b[0m\u001b[0mresult\u001b[0m\u001b[1;33m\u001b[0m\u001b[1;33m\u001b[0m\u001b[0m\n",
      "\u001b[1;32m~\\Anaconda3\\lib\\site-packages\\pandas\\plotting\\_matplotlib\\core.py\u001b[0m in \u001b[0;36mgenerate\u001b[1;34m(self)\u001b[0m\n\u001b[0;32m    277\u001b[0m     \u001b[1;32mdef\u001b[0m \u001b[0mgenerate\u001b[0m\u001b[1;33m(\u001b[0m\u001b[0mself\u001b[0m\u001b[1;33m)\u001b[0m\u001b[1;33m:\u001b[0m\u001b[1;33m\u001b[0m\u001b[1;33m\u001b[0m\u001b[0m\n\u001b[0;32m    278\u001b[0m         \u001b[0mself\u001b[0m\u001b[1;33m.\u001b[0m\u001b[0m_args_adjust\u001b[0m\u001b[1;33m(\u001b[0m\u001b[1;33m)\u001b[0m\u001b[1;33m\u001b[0m\u001b[1;33m\u001b[0m\u001b[0m\n\u001b[1;32m--> 279\u001b[1;33m         \u001b[0mself\u001b[0m\u001b[1;33m.\u001b[0m\u001b[0m_compute_plot_data\u001b[0m\u001b[1;33m(\u001b[0m\u001b[1;33m)\u001b[0m\u001b[1;33m\u001b[0m\u001b[1;33m\u001b[0m\u001b[0m\n\u001b[0m\u001b[0;32m    280\u001b[0m         \u001b[0mself\u001b[0m\u001b[1;33m.\u001b[0m\u001b[0m_setup_subplots\u001b[0m\u001b[1;33m(\u001b[0m\u001b[1;33m)\u001b[0m\u001b[1;33m\u001b[0m\u001b[1;33m\u001b[0m\u001b[0m\n\u001b[0;32m    281\u001b[0m         \u001b[0mself\u001b[0m\u001b[1;33m.\u001b[0m\u001b[0m_make_plot\u001b[0m\u001b[1;33m(\u001b[0m\u001b[1;33m)\u001b[0m\u001b[1;33m\u001b[0m\u001b[1;33m\u001b[0m\u001b[0m\n",
      "\u001b[1;32m~\\Anaconda3\\lib\\site-packages\\pandas\\plotting\\_matplotlib\\core.py\u001b[0m in \u001b[0;36m_compute_plot_data\u001b[1;34m(self)\u001b[0m\n\u001b[0;32m    412\u001b[0m         \u001b[1;31m# no non-numeric frames or series allowed\u001b[0m\u001b[1;33m\u001b[0m\u001b[1;33m\u001b[0m\u001b[1;33m\u001b[0m\u001b[0m\n\u001b[0;32m    413\u001b[0m         \u001b[1;32mif\u001b[0m \u001b[0mis_empty\u001b[0m\u001b[1;33m:\u001b[0m\u001b[1;33m\u001b[0m\u001b[1;33m\u001b[0m\u001b[0m\n\u001b[1;32m--> 414\u001b[1;33m             \u001b[1;32mraise\u001b[0m \u001b[0mTypeError\u001b[0m\u001b[1;33m(\u001b[0m\u001b[1;34m\"no numeric data to plot\"\u001b[0m\u001b[1;33m)\u001b[0m\u001b[1;33m\u001b[0m\u001b[1;33m\u001b[0m\u001b[0m\n\u001b[0m\u001b[0;32m    415\u001b[0m \u001b[1;33m\u001b[0m\u001b[0m\n\u001b[0;32m    416\u001b[0m         \u001b[1;31m# GH25587: cast ExtensionArray of pandas (IntegerArray, etc.) to\u001b[0m\u001b[1;33m\u001b[0m\u001b[1;33m\u001b[0m\u001b[1;33m\u001b[0m\u001b[0m\n",
      "\u001b[1;31mTypeError\u001b[0m: no numeric data to plot"
     ]
    }
   ],
   "source": [
    "df['MT_001'].plot(figsize=(19,12))\n",
    "plt.show()"
   ]
  },
  {
   "cell_type": "code",
   "execution_count": null,
   "metadata": {},
   "outputs": [],
   "source": []
  }
 ],
 "metadata": {
  "kernelspec": {
   "display_name": "Python 3",
   "language": "python",
   "name": "python3"
  },
  "language_info": {
   "codemirror_mode": {
    "name": "ipython",
    "version": 3
   },
   "file_extension": ".py",
   "mimetype": "text/x-python",
   "name": "python",
   "nbconvert_exporter": "python",
   "pygments_lexer": "ipython3",
   "version": "3.7.4"
  }
 },
 "nbformat": 4,
 "nbformat_minor": 2
}
