{
 "cells": [
  {
   "cell_type": "markdown",
   "metadata": {},
   "source": [
    "# Import Libraries"
   ]
  },
  {
   "cell_type": "code",
   "execution_count": 3,
   "metadata": {},
   "outputs": [],
   "source": [
    "# import libraries\n",
    "import pandas as pd\n",
    "import numpy as np\n",
    "\n",
    "import matplotlib.pyplot as plt\n",
    "import seaborn as sns"
   ]
  },
  {
   "cell_type": "markdown",
   "metadata": {},
   "source": [
    "# Table of Contents\n",
    "\n",
    "* [Import Datasets](#importdata)\n",
    "* [Indexing](#index)\n",
    "* [Data Exploration](#explore)\n",
    "* [Clean Data](#clean)\n",
    "* [List of Customers](#column)\n"
   ]
  },
  {
   "cell_type": "markdown",
   "metadata": {},
   "source": [
    "# Import Datasets <a class=\"anchor\" id=\"importdata\"></a>\n",
    "\n",
    "The two main datasets are \"Levering\" and \"Teruglevering\", which are respectively consumption and production."
   ]
  },
  {
   "cell_type": "code",
   "execution_count": 90,
   "metadata": {},
   "outputs": [
    {
     "name": "stderr",
     "output_type": "stream",
     "text": [
      "C:\\Users\\sande\\Anaconda3\\lib\\site-packages\\IPython\\core\\interactiveshell.py:3058: DtypeWarning: Columns (0,79,80) have mixed types. Specify dtype option on import or set low_memory=False.\n",
      "  interactivity=interactivity, compiler=compiler, result=result)\n"
     ]
    }
   ],
   "source": [
    "# import dataset\n",
    "consumption = pd.read_csv(\"Raw Data/Levering.csv\", sep=';')\n",
    "production = pd.read_csv(\"Raw Data/Teruglevering.csv\", sep=';', index_col=0, skiprows=1)"
   ]
  },
  {
   "cell_type": "markdown",
   "metadata": {},
   "source": [
    "# Indexing <a class=\"anchor\" id=\"index\"></a>\n",
    "The index should show the date and time. Every 15 min there is a measurement (every row)."
   ]
  },
  {
   "cell_type": "code",
   "execution_count": 91,
   "metadata": {},
   "outputs": [],
   "source": [
    "consumption.datetime = pd.to_datetime(consumption.datetime)\n"
   ]
  },
  {
   "cell_type": "code",
   "execution_count": 126,
   "metadata": {},
   "outputs": [],
   "source": [
    "consumption.set_index('datetime', inplace=True)"
   ]
  },
  {
   "cell_type": "code",
   "execution_count": 92,
   "metadata": {},
   "outputs": [
    {
     "data": {
      "text/html": [
       "<div>\n",
       "<style scoped>\n",
       "    .dataframe tbody tr th:only-of-type {\n",
       "        vertical-align: middle;\n",
       "    }\n",
       "\n",
       "    .dataframe tbody tr th {\n",
       "        vertical-align: top;\n",
       "    }\n",
       "\n",
       "    .dataframe thead th {\n",
       "        text-align: right;\n",
       "    }\n",
       "</style>\n",
       "<table border=\"1\" class=\"dataframe\">\n",
       "  <thead>\n",
       "    <tr style=\"text-align: right;\">\n",
       "      <th></th>\n",
       "      <th>datetime</th>\n",
       "      <th>SOM</th>\n",
       "      <th>Klant 1</th>\n",
       "      <th>Klant 2</th>\n",
       "      <th>Klant 3</th>\n",
       "      <th>Klant 4</th>\n",
       "      <th>Klant 5</th>\n",
       "      <th>Klant 6</th>\n",
       "      <th>Klant 8</th>\n",
       "      <th>Klant 9</th>\n",
       "      <th>...</th>\n",
       "      <th>Klant 74</th>\n",
       "      <th>Klant 76</th>\n",
       "      <th>Klant 77</th>\n",
       "      <th>Klant 78</th>\n",
       "      <th>Klant 79</th>\n",
       "      <th>Klant 80</th>\n",
       "      <th>Klant 81</th>\n",
       "      <th>Klant 82</th>\n",
       "      <th>leverende klanten</th>\n",
       "      <th>niet leverenden</th>\n",
       "    </tr>\n",
       "  </thead>\n",
       "  <tbody>\n",
       "    <tr>\n",
       "      <td>0</td>\n",
       "      <td>2013-01-01 00:00:00</td>\n",
       "      <td>9076.0</td>\n",
       "      <td>71.0</td>\n",
       "      <td>188.0</td>\n",
       "      <td>NaN</td>\n",
       "      <td>31.0</td>\n",
       "      <td>61.0</td>\n",
       "      <td>138.0</td>\n",
       "      <td>187.0</td>\n",
       "      <td>194.0</td>\n",
       "      <td>...</td>\n",
       "      <td>29.0</td>\n",
       "      <td>60.0</td>\n",
       "      <td>126.0</td>\n",
       "      <td>57.0</td>\n",
       "      <td>223.0</td>\n",
       "      <td>203.0</td>\n",
       "      <td>NaN</td>\n",
       "      <td>NaN</td>\n",
       "      <td>#WAARDE!</td>\n",
       "      <td>#WAARDE!</td>\n",
       "    </tr>\n",
       "    <tr>\n",
       "      <td>1</td>\n",
       "      <td>2013-01-01 00:15:00</td>\n",
       "      <td>8962.0</td>\n",
       "      <td>58.0</td>\n",
       "      <td>176.0</td>\n",
       "      <td>NaN</td>\n",
       "      <td>13.0</td>\n",
       "      <td>64.0</td>\n",
       "      <td>147.0</td>\n",
       "      <td>169.0</td>\n",
       "      <td>152.0</td>\n",
       "      <td>...</td>\n",
       "      <td>15.0</td>\n",
       "      <td>72.0</td>\n",
       "      <td>114.0</td>\n",
       "      <td>30.0</td>\n",
       "      <td>257.0</td>\n",
       "      <td>191.0</td>\n",
       "      <td>NaN</td>\n",
       "      <td>NaN</td>\n",
       "      <td>1541</td>\n",
       "      <td>7460</td>\n",
       "    </tr>\n",
       "    <tr>\n",
       "      <td>2</td>\n",
       "      <td>2013-01-01 00:30:00</td>\n",
       "      <td>9503.0</td>\n",
       "      <td>57.0</td>\n",
       "      <td>180.0</td>\n",
       "      <td>NaN</td>\n",
       "      <td>16.0</td>\n",
       "      <td>43.0</td>\n",
       "      <td>129.0</td>\n",
       "      <td>173.0</td>\n",
       "      <td>133.0</td>\n",
       "      <td>...</td>\n",
       "      <td>25.0</td>\n",
       "      <td>77.0</td>\n",
       "      <td>112.0</td>\n",
       "      <td>32.0</td>\n",
       "      <td>179.0</td>\n",
       "      <td>162.0</td>\n",
       "      <td>NaN</td>\n",
       "      <td>NaN</td>\n",
       "      <td>1584</td>\n",
       "      <td>7455</td>\n",
       "    </tr>\n",
       "    <tr>\n",
       "      <td>3</td>\n",
       "      <td>2013-01-01 00:45:00</td>\n",
       "      <td>8789.0</td>\n",
       "      <td>78.0</td>\n",
       "      <td>224.0</td>\n",
       "      <td>NaN</td>\n",
       "      <td>14.0</td>\n",
       "      <td>29.0</td>\n",
       "      <td>140.0</td>\n",
       "      <td>202.0</td>\n",
       "      <td>140.0</td>\n",
       "      <td>...</td>\n",
       "      <td>64.0</td>\n",
       "      <td>66.0</td>\n",
       "      <td>102.0</td>\n",
       "      <td>29.0</td>\n",
       "      <td>216.0</td>\n",
       "      <td>222.0</td>\n",
       "      <td>NaN</td>\n",
       "      <td>NaN</td>\n",
       "      <td>1339</td>\n",
       "      <td>8016</td>\n",
       "    </tr>\n",
       "    <tr>\n",
       "      <td>4</td>\n",
       "      <td>2013-01-01 01:00:00</td>\n",
       "      <td>8806.0</td>\n",
       "      <td>63.0</td>\n",
       "      <td>211.0</td>\n",
       "      <td>NaN</td>\n",
       "      <td>17.0</td>\n",
       "      <td>30.0</td>\n",
       "      <td>147.0</td>\n",
       "      <td>200.0</td>\n",
       "      <td>137.0</td>\n",
       "      <td>...</td>\n",
       "      <td>79.0</td>\n",
       "      <td>71.0</td>\n",
       "      <td>53.0</td>\n",
       "      <td>31.0</td>\n",
       "      <td>209.0</td>\n",
       "      <td>211.0</td>\n",
       "      <td>NaN</td>\n",
       "      <td>NaN</td>\n",
       "      <td>1485</td>\n",
       "      <td>7379</td>\n",
       "    </tr>\n",
       "  </tbody>\n",
       "</table>\n",
       "<p>5 rows × 81 columns</p>\n",
       "</div>"
      ],
      "text/plain": [
       "             datetime     SOM  Klant 1  Klant 2  Klant 3  Klant 4  Klant 5  \\\n",
       "0 2013-01-01 00:00:00  9076.0     71.0    188.0      NaN     31.0     61.0   \n",
       "1 2013-01-01 00:15:00  8962.0     58.0    176.0      NaN     13.0     64.0   \n",
       "2 2013-01-01 00:30:00  9503.0     57.0    180.0      NaN     16.0     43.0   \n",
       "3 2013-01-01 00:45:00  8789.0     78.0    224.0      NaN     14.0     29.0   \n",
       "4 2013-01-01 01:00:00  8806.0     63.0    211.0      NaN     17.0     30.0   \n",
       "\n",
       "   Klant 6  Klant 8  Klant 9  ...  Klant 74  Klant 76  Klant 77  Klant 78  \\\n",
       "0    138.0    187.0    194.0  ...      29.0      60.0     126.0      57.0   \n",
       "1    147.0    169.0    152.0  ...      15.0      72.0     114.0      30.0   \n",
       "2    129.0    173.0    133.0  ...      25.0      77.0     112.0      32.0   \n",
       "3    140.0    202.0    140.0  ...      64.0      66.0     102.0      29.0   \n",
       "4    147.0    200.0    137.0  ...      79.0      71.0      53.0      31.0   \n",
       "\n",
       "   Klant 79  Klant 80  Klant 81  Klant 82  leverende klanten  niet leverenden  \n",
       "0     223.0     203.0       NaN       NaN           #WAARDE!         #WAARDE!  \n",
       "1     257.0     191.0       NaN       NaN               1541             7460  \n",
       "2     179.0     162.0       NaN       NaN               1584             7455  \n",
       "3     216.0     222.0       NaN       NaN               1339             8016  \n",
       "4     209.0     211.0       NaN       NaN               1485             7379  \n",
       "\n",
       "[5 rows x 81 columns]"
      ]
     },
     "execution_count": 92,
     "metadata": {},
     "output_type": "execute_result"
    }
   ],
   "source": [
    "consumption.head(5)"
   ]
  },
  {
   "cell_type": "code",
   "execution_count": 45,
   "metadata": {},
   "outputs": [
    {
     "data": {
      "text/html": [
       "<div>\n",
       "<style scoped>\n",
       "    .dataframe tbody tr th:only-of-type {\n",
       "        vertical-align: middle;\n",
       "    }\n",
       "\n",
       "    .dataframe tbody tr th {\n",
       "        vertical-align: top;\n",
       "    }\n",
       "\n",
       "    .dataframe thead th {\n",
       "        text-align: right;\n",
       "    }\n",
       "</style>\n",
       "<table border=\"1\" class=\"dataframe\">\n",
       "  <thead>\n",
       "    <tr style=\"text-align: right;\">\n",
       "      <th></th>\n",
       "      <th>SOM</th>\n",
       "      <th>Klant 1</th>\n",
       "      <th>Klant 2</th>\n",
       "      <th>Klant 3</th>\n",
       "      <th>Klant 4</th>\n",
       "      <th>Klant 5</th>\n",
       "      <th>Klant 6</th>\n",
       "      <th>Klant 8</th>\n",
       "      <th>Klant 9</th>\n",
       "      <th>Klant 10</th>\n",
       "      <th>...</th>\n",
       "      <th>Klant 73</th>\n",
       "      <th>Klant 74</th>\n",
       "      <th>Klant 76</th>\n",
       "      <th>Klant 77</th>\n",
       "      <th>Klant 78</th>\n",
       "      <th>Klant 79</th>\n",
       "      <th>Klant 80</th>\n",
       "      <th>Klant 81</th>\n",
       "      <th>Klant 82</th>\n",
       "      <th>terleveraars</th>\n",
       "    </tr>\n",
       "    <tr>\n",
       "      <th>datetime</th>\n",
       "      <th></th>\n",
       "      <th></th>\n",
       "      <th></th>\n",
       "      <th></th>\n",
       "      <th></th>\n",
       "      <th></th>\n",
       "      <th></th>\n",
       "      <th></th>\n",
       "      <th></th>\n",
       "      <th></th>\n",
       "      <th></th>\n",
       "      <th></th>\n",
       "      <th></th>\n",
       "      <th></th>\n",
       "      <th></th>\n",
       "      <th></th>\n",
       "      <th></th>\n",
       "      <th></th>\n",
       "      <th></th>\n",
       "      <th></th>\n",
       "      <th></th>\n",
       "    </tr>\n",
       "  </thead>\n",
       "  <tbody>\n",
       "    <tr>\n",
       "      <td>1-1-2013 0:00</td>\n",
       "      <td>0</td>\n",
       "      <td>0</td>\n",
       "      <td>0</td>\n",
       "      <td>0</td>\n",
       "      <td>0</td>\n",
       "      <td>0</td>\n",
       "      <td>0.0</td>\n",
       "      <td>0</td>\n",
       "      <td>0</td>\n",
       "      <td>0</td>\n",
       "      <td>...</td>\n",
       "      <td>0</td>\n",
       "      <td>0</td>\n",
       "      <td>0</td>\n",
       "      <td>0</td>\n",
       "      <td>0</td>\n",
       "      <td>0</td>\n",
       "      <td>0</td>\n",
       "      <td>0</td>\n",
       "      <td>0</td>\n",
       "      <td>0</td>\n",
       "    </tr>\n",
       "    <tr>\n",
       "      <td>1-1-2013 0:15</td>\n",
       "      <td>0</td>\n",
       "      <td>0</td>\n",
       "      <td>0</td>\n",
       "      <td>0</td>\n",
       "      <td>0</td>\n",
       "      <td>0</td>\n",
       "      <td>0.0</td>\n",
       "      <td>0</td>\n",
       "      <td>0</td>\n",
       "      <td>0</td>\n",
       "      <td>...</td>\n",
       "      <td>0</td>\n",
       "      <td>0</td>\n",
       "      <td>0</td>\n",
       "      <td>0</td>\n",
       "      <td>0</td>\n",
       "      <td>0</td>\n",
       "      <td>0</td>\n",
       "      <td>0</td>\n",
       "      <td>0</td>\n",
       "      <td>0</td>\n",
       "    </tr>\n",
       "    <tr>\n",
       "      <td>1-1-2013 0:30</td>\n",
       "      <td>0</td>\n",
       "      <td>0</td>\n",
       "      <td>0</td>\n",
       "      <td>0</td>\n",
       "      <td>0</td>\n",
       "      <td>0</td>\n",
       "      <td>0.0</td>\n",
       "      <td>0</td>\n",
       "      <td>0</td>\n",
       "      <td>0</td>\n",
       "      <td>...</td>\n",
       "      <td>0</td>\n",
       "      <td>0</td>\n",
       "      <td>0</td>\n",
       "      <td>0</td>\n",
       "      <td>0</td>\n",
       "      <td>0</td>\n",
       "      <td>0</td>\n",
       "      <td>0</td>\n",
       "      <td>0</td>\n",
       "      <td>0</td>\n",
       "    </tr>\n",
       "    <tr>\n",
       "      <td>1-1-2013 0:45</td>\n",
       "      <td>0</td>\n",
       "      <td>0</td>\n",
       "      <td>0</td>\n",
       "      <td>0</td>\n",
       "      <td>0</td>\n",
       "      <td>0</td>\n",
       "      <td>0.0</td>\n",
       "      <td>0</td>\n",
       "      <td>0</td>\n",
       "      <td>0</td>\n",
       "      <td>...</td>\n",
       "      <td>0</td>\n",
       "      <td>0</td>\n",
       "      <td>0</td>\n",
       "      <td>0</td>\n",
       "      <td>0</td>\n",
       "      <td>0</td>\n",
       "      <td>0</td>\n",
       "      <td>0</td>\n",
       "      <td>0</td>\n",
       "      <td>0</td>\n",
       "    </tr>\n",
       "    <tr>\n",
       "      <td>1-1-2013 1:00</td>\n",
       "      <td>0</td>\n",
       "      <td>0</td>\n",
       "      <td>0</td>\n",
       "      <td>0</td>\n",
       "      <td>0</td>\n",
       "      <td>0</td>\n",
       "      <td>0.0</td>\n",
       "      <td>0</td>\n",
       "      <td>0</td>\n",
       "      <td>0</td>\n",
       "      <td>...</td>\n",
       "      <td>0</td>\n",
       "      <td>0</td>\n",
       "      <td>0</td>\n",
       "      <td>0</td>\n",
       "      <td>0</td>\n",
       "      <td>0</td>\n",
       "      <td>0</td>\n",
       "      <td>0</td>\n",
       "      <td>0</td>\n",
       "      <td>0</td>\n",
       "    </tr>\n",
       "  </tbody>\n",
       "</table>\n",
       "<p>5 rows × 79 columns</p>\n",
       "</div>"
      ],
      "text/plain": [
       "               SOM  Klant 1  Klant 2  Klant 3  Klant 4  Klant 5  Klant 6  \\\n",
       "datetime                                                                   \n",
       "1-1-2013 0:00    0        0        0        0        0        0      0.0   \n",
       "1-1-2013 0:15    0        0        0        0        0        0      0.0   \n",
       "1-1-2013 0:30    0        0        0        0        0        0      0.0   \n",
       "1-1-2013 0:45    0        0        0        0        0        0      0.0   \n",
       "1-1-2013 1:00    0        0        0        0        0        0      0.0   \n",
       "\n",
       "               Klant 8  Klant 9  Klant 10  ...  Klant 73  Klant 74  Klant 76  \\\n",
       "datetime                                   ...                                 \n",
       "1-1-2013 0:00        0        0         0  ...         0         0         0   \n",
       "1-1-2013 0:15        0        0         0  ...         0         0         0   \n",
       "1-1-2013 0:30        0        0         0  ...         0         0         0   \n",
       "1-1-2013 0:45        0        0         0  ...         0         0         0   \n",
       "1-1-2013 1:00        0        0         0  ...         0         0         0   \n",
       "\n",
       "               Klant 77  Klant 78  Klant 79  Klant 80  Klant 81  Klant 82  \\\n",
       "datetime                                                                    \n",
       "1-1-2013 0:00         0         0         0         0         0         0   \n",
       "1-1-2013 0:15         0         0         0         0         0         0   \n",
       "1-1-2013 0:30         0         0         0         0         0         0   \n",
       "1-1-2013 0:45         0         0         0         0         0         0   \n",
       "1-1-2013 1:00         0         0         0         0         0         0   \n",
       "\n",
       "               terleveraars  \n",
       "datetime                     \n",
       "1-1-2013 0:00             0  \n",
       "1-1-2013 0:15             0  \n",
       "1-1-2013 0:30             0  \n",
       "1-1-2013 0:45             0  \n",
       "1-1-2013 1:00             0  \n",
       "\n",
       "[5 rows x 79 columns]"
      ]
     },
     "execution_count": 45,
     "metadata": {},
     "output_type": "execute_result"
    }
   ],
   "source": [
    "production.head(5)"
   ]
  },
  {
   "cell_type": "markdown",
   "metadata": {},
   "source": [
    "# Data exploration <a class=\"anchor\" id=\"explore\"></a>\n",
    "\n",
    "### Consumption dataset\n",
    "\n",
    "1. Approximately 50% of the rows for all customers (columns) are filled with NaN's.\n",
    "2. The above is mainly the result of only NaNs in the Excel starting from row 35042\n",
    "\n",
    "\n",
    "### Produciton dataset"
   ]
  },
  {
   "cell_type": "code",
   "execution_count": 66,
   "metadata": {},
   "outputs": [],
   "source": [
    "#consumption.info()"
   ]
  },
  {
   "cell_type": "code",
   "execution_count": 93,
   "metadata": {},
   "outputs": [
    {
     "data": {
      "text/plain": [
       "datetime             34992\n",
       "SOM                  34992\n",
       "Klant 1              35558\n",
       "Klant 2              35089\n",
       "Klant 3              36243\n",
       "                     ...  \n",
       "Klant 80             38377\n",
       "Klant 81             35463\n",
       "Klant 82             38097\n",
       "leverende klanten    34992\n",
       "niet leverenden      34992\n",
       "Length: 81, dtype: int64"
      ]
     },
     "execution_count": 93,
     "metadata": {},
     "output_type": "execute_result"
    }
   ],
   "source": [
    "consumption.isna().sum()"
   ]
  },
  {
   "cell_type": "code",
   "execution_count": 67,
   "metadata": {},
   "outputs": [],
   "source": [
    "# pd.DataFrame(production.isna().sum())"
   ]
  },
  {
   "cell_type": "code",
   "execution_count": null,
   "metadata": {},
   "outputs": [],
   "source": []
  },
  {
   "cell_type": "markdown",
   "metadata": {},
   "source": [
    "# Clean Data <a class=\"anchor\" id=\"clean\"></a>\n",
    "## Consumption\n",
    "1. Remove empty cells (empty for all columns)\n",
    "2. Divide into summer and winter"
   ]
  },
  {
   "cell_type": "code",
   "execution_count": 127,
   "metadata": {},
   "outputs": [],
   "source": [
    "# After 35040 No data\n",
    "consumption = consumption.iloc[0:35040,:]"
   ]
  },
  {
   "cell_type": "code",
   "execution_count": 128,
   "metadata": {},
   "outputs": [
    {
     "data": {
      "text/plain": [
       "Klant 59    12246\n",
       "Klant 63    11782\n",
       "Klant 69     7722\n",
       "Klant 47     6977\n",
       "Klant 55     5329\n",
       "            ...  \n",
       "Klant 39        0\n",
       "Klant 38        0\n",
       "Klant 37        0\n",
       "Klant 36        0\n",
       "SOM             0\n",
       "Length: 80, dtype: int64"
      ]
     },
     "execution_count": 128,
     "metadata": {},
     "output_type": "execute_result"
    }
   ],
   "source": [
    "# Threshold to remove customers??\n",
    "consumption.isna().sum().sort_values(ascending=False)"
   ]
  },
  {
   "cell_type": "code",
   "execution_count": 135,
   "metadata": {},
   "outputs": [],
   "source": [
    "# between_time only useful for timeinterval not by data\n",
    "time_slice = consumption.between_time('00:15:00','00:30:00' )\n"
   ]
  },
  {
   "cell_type": "code",
   "execution_count": 140,
   "metadata": {},
   "outputs": [],
   "source": [
    "# Summer 20 June - 22 September\n",
    "# 16322 = 16320  - 25441  \n",
    "consumption_summer = consumption.iloc[16320:25440,:]"
   ]
  },
  {
   "cell_type": "code",
   "execution_count": 155,
   "metadata": {},
   "outputs": [],
   "source": [
    "# Winter 21 Dec - 20 March\n",
    "# add two periods\n",
    "winter_dec = consumption.iloc[33984:35040,:] \n",
    "winter_jfm = consumption.iloc[0:7584,:]\n",
    "# add via concat\n",
    "consumption_winter = pd.concat([winter_dec,winter_jfm])"
   ]
  },
  {
   "cell_type": "markdown",
   "metadata": {},
   "source": [
    "# List of customers <a class=\"anchor\" id=\"colum\"></a>\n",
    "\n",
    "Four different kind of customers:\n",
    "1. There are some customer numbers that do not exist in the dataset (in other words, the column is not included)\n",
    "2. Customers with a lot of NaNs\n",
    "3. Customer without solar panels (no production)\n",
    "4. Customer with solar panels (with production)"
   ]
  },
  {
   "cell_type": "code",
   "execution_count": null,
   "metadata": {},
   "outputs": [],
   "source": [
    "cust_not_exist = ['Klant 7','Klant 12','Klant 54', 'Klant 56' , 'Klant 75']\n",
    "cust_no_data = ['Klant 59']"
   ]
  },
  {
   "cell_type": "code",
   "execution_count": null,
   "metadata": {},
   "outputs": [],
   "source": [
    "prosumers = ['Klant 1','Klant 21','Klant 30', 'Klant 47' , 'Klant 48',\n",
    "             'Klant 55', 'Klant 63' , 'Klant 69','Klant 79' , 'Klant 80']"
   ]
  },
  {
   "cell_type": "markdown",
   "metadata": {},
   "source": []
  },
  {
   "cell_type": "code",
   "execution_count": null,
   "metadata": {},
   "outputs": [],
   "source": []
  },
  {
   "cell_type": "code",
   "execution_count": null,
   "metadata": {},
   "outputs": [],
   "source": []
  }
 ],
 "metadata": {
  "kernelspec": {
   "display_name": "Python 3",
   "language": "python",
   "name": "python3"
  },
  "language_info": {
   "codemirror_mode": {
    "name": "ipython",
    "version": 3
   },
   "file_extension": ".py",
   "mimetype": "text/x-python",
   "name": "python",
   "nbconvert_exporter": "python",
   "pygments_lexer": "ipython3",
   "version": "3.7.4"
  }
 },
 "nbformat": 4,
 "nbformat_minor": 2
}
